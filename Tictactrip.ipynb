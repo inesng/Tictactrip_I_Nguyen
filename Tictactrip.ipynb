{
 "cells": [
  {
   "cell_type": "markdown",
   "metadata": {},
   "source": [
    "# Tictactrip exercice"
   ]
  },
  {
   "cell_type": "markdown",
   "metadata": {},
   "source": [
    "Because the columns in the given data are in english, I decided to write every comments in the same langage."
   ]
  },
  {
   "cell_type": "markdown",
   "metadata": {},
   "source": [
    "# Importing the dependencies"
   ]
  },
  {
   "cell_type": "markdown",
   "metadata": {},
   "source": [
    "In order to load our data :"
   ]
  },
  {
   "cell_type": "code",
   "execution_count": 1,
   "metadata": {},
   "outputs": [],
   "source": [
    "import pandas as pd\n",
    "import csv\n",
    "import numpy as np"
   ]
  },
  {
   "cell_type": "markdown",
   "metadata": {},
   "source": [
    "To do some data visualization : "
   ]
  },
  {
   "cell_type": "code",
   "execution_count": 2,
   "metadata": {},
   "outputs": [],
   "source": [
    "import matplotlib.pyplot as plt\n",
    "import seaborn as sns"
   ]
  },
  {
   "cell_type": "markdown",
   "metadata": {},
   "source": [
    "To convert our data"
   ]
  },
  {
   "cell_type": "code",
   "execution_count": 3,
   "metadata": {},
   "outputs": [],
   "source": [
    "from datetime import datetime\n",
    "import time\n",
    "\n",
    "from math import radians, sin, cos, acos"
   ]
  },
  {
   "cell_type": "markdown",
   "metadata": {},
   "source": [
    "# Opening the CSV Files"
   ]
  },
  {
   "cell_type": "code",
   "execution_count": 4,
   "metadata": {},
   "outputs": [],
   "source": [
    "cities = pd.read_csv(\"cities.csv\")\n",
    "providers = pd.read_csv(\"providers.csv\")\n",
    "stations = pd.read_csv(\"stations.csv\")\n",
    "ticket_data = pd.read_csv(\"ticket_data.csv\")"
   ]
  },
  {
   "cell_type": "code",
   "execution_count": 5,
   "metadata": {},
   "outputs": [
    {
     "data": {
      "text/plain": [
       "Index(['id', 'local_name', 'unique_name', 'latitude', 'longitude',\n",
       "       'population'],\n",
       "      dtype='object')"
      ]
     },
     "execution_count": 5,
     "metadata": {},
     "output_type": "execute_result"
    }
   ],
   "source": [
    "cities.columns"
   ]
  },
  {
   "cell_type": "markdown",
   "metadata": {},
   "source": [
    "The columns population doesn't seem to give essential informations.\n",
    "Therefore, I will remove it."
   ]
  },
  {
   "cell_type": "code",
   "execution_count": 6,
   "metadata": {},
   "outputs": [
    {
     "data": {
      "text/plain": [
       "Index(['id', 'company_id', 'provider_id', 'name', 'fullname', 'has_wifi',\n",
       "       'has_plug', 'has_adjustable_seats', 'has_bicycle', 'transport_type'],\n",
       "      dtype='object')"
      ]
     },
     "execution_count": 6,
     "metadata": {},
     "output_type": "execute_result"
    }
   ],
   "source": [
    "providers.columns"
   ]
  },
  {
   "cell_type": "markdown",
   "metadata": {},
   "source": [
    "Here, we will just need the 'id' ,'company_id','name', 'fullname', 'transport_type' columns"
   ]
  },
  {
   "cell_type": "code",
   "execution_count": 7,
   "metadata": {},
   "outputs": [
    {
     "data": {
      "text/plain": [
       "Index(['id', 'unique_name', 'latitude', 'longitude'], dtype='object')"
      ]
     },
     "execution_count": 7,
     "metadata": {},
     "output_type": "execute_result"
    }
   ],
   "source": [
    "stations.columns"
   ]
  },
  {
   "cell_type": "code",
   "execution_count": 8,
   "metadata": {},
   "outputs": [
    {
     "data": {
      "text/plain": [
       "Index(['id', 'company', 'o_station', 'd_station', 'departure_ts', 'arrival_ts',\n",
       "       'price_in_cents', 'search_ts', 'middle_stations', 'other_companies',\n",
       "       'o_city', 'd_city'],\n",
       "      dtype='object')"
      ]
     },
     "execution_count": 8,
     "metadata": {},
     "output_type": "execute_result"
    }
   ],
   "source": [
    "ticket_data.columns"
   ]
  },
  {
   "cell_type": "markdown",
   "metadata": {},
   "source": [
    "To avoid issues in the merging, I will rename all the id's with a more specific name."
   ]
  },
  {
   "cell_type": "markdown",
   "metadata": {},
   "source": [
    "# Exploring the datas"
   ]
  },
  {
   "cell_type": "markdown",
   "metadata": {},
   "source": [
    "### Exploring 'cities'"
   ]
  },
  {
   "cell_type": "markdown",
   "metadata": {},
   "source": [
    "To avoid issues in the future merging, I renamed some columns with more specific names"
   ]
  },
  {
   "cell_type": "code",
   "execution_count": 9,
   "metadata": {},
   "outputs": [],
   "source": [
    "cities= cities.rename(columns={\"id\":\"id_cities\"})"
   ]
  },
  {
   "cell_type": "code",
   "execution_count": 10,
   "metadata": {},
   "outputs": [
    {
     "data": {
      "text/plain": [
       "id_cities         0\n",
       "local_name        0\n",
       "unique_name       1\n",
       "latitude          0\n",
       "longitude         0\n",
       "population     7671\n",
       "dtype: int64"
      ]
     },
     "execution_count": 10,
     "metadata": {},
     "output_type": "execute_result"
    }
   ],
   "source": [
    "cities_null = cities.copy()\n",
    "cities_null.isnull().sum()"
   ]
  },
  {
   "cell_type": "markdown",
   "metadata": {},
   "source": [
    "We see that there are 7671 values missing in population and 1 value missing in unique_name.\n",
    "Because population and local_name are not relevant for us, I removed them."
   ]
  },
  {
   "cell_type": "code",
   "execution_count": 11,
   "metadata": {},
   "outputs": [],
   "source": [
    "cities['unique_name'] = cities['unique_name'].fillna('unknow')"
   ]
  },
  {
   "cell_type": "code",
   "execution_count": 12,
   "metadata": {},
   "outputs": [],
   "source": [
    "cities = cities.drop(columns = ['population','local_name'])\n"
   ]
  },
  {
   "cell_type": "code",
   "execution_count": 13,
   "metadata": {},
   "outputs": [
    {
     "data": {
      "text/html": [
       "<div>\n",
       "<style scoped>\n",
       "    .dataframe tbody tr th:only-of-type {\n",
       "        vertical-align: middle;\n",
       "    }\n",
       "\n",
       "    .dataframe tbody tr th {\n",
       "        vertical-align: top;\n",
       "    }\n",
       "\n",
       "    .dataframe thead th {\n",
       "        text-align: right;\n",
       "    }\n",
       "</style>\n",
       "<table border=\"1\" class=\"dataframe\">\n",
       "  <thead>\n",
       "    <tr style=\"text-align: right;\">\n",
       "      <th></th>\n",
       "      <th>id_cities</th>\n",
       "      <th>unique_name</th>\n",
       "      <th>latitude</th>\n",
       "      <th>longitude</th>\n",
       "    </tr>\n",
       "  </thead>\n",
       "  <tbody>\n",
       "    <tr>\n",
       "      <th>0</th>\n",
       "      <td>5159</td>\n",
       "      <td>padua</td>\n",
       "      <td>45.406435</td>\n",
       "      <td>11.876761</td>\n",
       "    </tr>\n",
       "    <tr>\n",
       "      <th>1</th>\n",
       "      <td>76</td>\n",
       "      <td>barcelona</td>\n",
       "      <td>41.385064</td>\n",
       "      <td>2.173404</td>\n",
       "    </tr>\n",
       "    <tr>\n",
       "      <th>2</th>\n",
       "      <td>81</td>\n",
       "      <td>basel</td>\n",
       "      <td>47.593437</td>\n",
       "      <td>7.619812</td>\n",
       "    </tr>\n",
       "    <tr>\n",
       "      <th>3</th>\n",
       "      <td>259</td>\n",
       "      <td>erlangen</td>\n",
       "      <td>49.589674</td>\n",
       "      <td>11.011961</td>\n",
       "    </tr>\n",
       "    <tr>\n",
       "      <th>4</th>\n",
       "      <td>11979</td>\n",
       "      <td>balș</td>\n",
       "      <td>44.353354</td>\n",
       "      <td>24.095672</td>\n",
       "    </tr>\n",
       "  </tbody>\n",
       "</table>\n",
       "</div>"
      ],
      "text/plain": [
       "   id_cities unique_name   latitude  longitude\n",
       "0       5159       padua  45.406435  11.876761\n",
       "1         76   barcelona  41.385064   2.173404\n",
       "2         81       basel  47.593437   7.619812\n",
       "3        259    erlangen  49.589674  11.011961\n",
       "4      11979        balș  44.353354  24.095672"
      ]
     },
     "execution_count": 13,
     "metadata": {},
     "output_type": "execute_result"
    }
   ],
   "source": [
    "cities.head()"
   ]
  },
  {
   "cell_type": "markdown",
   "metadata": {},
   "source": [
    "### Exploring providers"
   ]
  },
  {
   "cell_type": "markdown",
   "metadata": {},
   "source": [
    "Looking for the missing values:"
   ]
  },
  {
   "cell_type": "code",
   "execution_count": 14,
   "metadata": {},
   "outputs": [
    {
     "data": {
      "text/plain": [
       "id                       0\n",
       "company_id               0\n",
       "provider_id             14\n",
       "name                     0\n",
       "fullname                 0\n",
       "has_wifi                 3\n",
       "has_plug                 3\n",
       "has_adjustable_seats     3\n",
       "has_bicycle              3\n",
       "transport_type           0\n",
       "dtype: int64"
      ]
     },
     "execution_count": 14,
     "metadata": {},
     "output_type": "execute_result"
    }
   ],
   "source": [
    "providers_null = providers.copy()\n",
    "providers_null.isnull().sum()"
   ]
  },
  {
   "cell_type": "markdown",
   "metadata": {},
   "source": [
    "We can see that there are :\n",
    "14 missing values in 'provider_id'\n",
    "3 missing values in 'has_wifi', 'has_plug', 'has_adjustable_seats', 'has_bicycle'\n",
    "\n",
    "Because 'has_wifi', 'has_plug', 'has_adjustable_seats', 'has_bicycle' \n",
    "are not relevant for this exercice, I decided to remove them.\n"
   ]
  },
  {
   "cell_type": "code",
   "execution_count": 15,
   "metadata": {},
   "outputs": [],
   "source": [
    "providers= providers.rename(columns={\"id\":\"id_providers\"})\n",
    "providers = providers.drop(columns = ['has_wifi','has_plug', 'has_adjustable_seats', 'has_bicycle'])"
   ]
  },
  {
   "cell_type": "code",
   "execution_count": 16,
   "metadata": {},
   "outputs": [
    {
     "data": {
      "text/html": [
       "<div>\n",
       "<style scoped>\n",
       "    .dataframe tbody tr th:only-of-type {\n",
       "        vertical-align: middle;\n",
       "    }\n",
       "\n",
       "    .dataframe tbody tr th {\n",
       "        vertical-align: top;\n",
       "    }\n",
       "\n",
       "    .dataframe thead th {\n",
       "        text-align: right;\n",
       "    }\n",
       "</style>\n",
       "<table border=\"1\" class=\"dataframe\">\n",
       "  <thead>\n",
       "    <tr style=\"text-align: right;\">\n",
       "      <th></th>\n",
       "      <th>id_providers</th>\n",
       "      <th>company_id</th>\n",
       "      <th>provider_id</th>\n",
       "      <th>name</th>\n",
       "      <th>fullname</th>\n",
       "      <th>transport_type</th>\n",
       "    </tr>\n",
       "  </thead>\n",
       "  <tbody>\n",
       "    <tr>\n",
       "      <th>0</th>\n",
       "      <td>9</td>\n",
       "      <td>1</td>\n",
       "      <td>NaN</td>\n",
       "      <td>ouibus</td>\n",
       "      <td>Ouibus</td>\n",
       "      <td>bus</td>\n",
       "    </tr>\n",
       "    <tr>\n",
       "      <th>1</th>\n",
       "      <td>10</td>\n",
       "      <td>2</td>\n",
       "      <td>NaN</td>\n",
       "      <td>deinbus</td>\n",
       "      <td>Deinbus.de</td>\n",
       "      <td>bus</td>\n",
       "    </tr>\n",
       "    <tr>\n",
       "      <th>2</th>\n",
       "      <td>11</td>\n",
       "      <td>3</td>\n",
       "      <td>NaN</td>\n",
       "      <td>infobus</td>\n",
       "      <td>Infobus</td>\n",
       "      <td>bus</td>\n",
       "    </tr>\n",
       "    <tr>\n",
       "      <th>3</th>\n",
       "      <td>12</td>\n",
       "      <td>4</td>\n",
       "      <td>NaN</td>\n",
       "      <td>studentAgency</td>\n",
       "      <td>Student Agency</td>\n",
       "      <td>bus</td>\n",
       "    </tr>\n",
       "    <tr>\n",
       "      <th>4</th>\n",
       "      <td>13</td>\n",
       "      <td>5</td>\n",
       "      <td>NaN</td>\n",
       "      <td>flixbus</td>\n",
       "      <td>Flixbus</td>\n",
       "      <td>bus</td>\n",
       "    </tr>\n",
       "    <tr>\n",
       "      <th>5</th>\n",
       "      <td>14</td>\n",
       "      <td>6</td>\n",
       "      <td>NaN</td>\n",
       "      <td>driivme</td>\n",
       "      <td>DriiveMe</td>\n",
       "      <td>car</td>\n",
       "    </tr>\n",
       "    <tr>\n",
       "      <th>6</th>\n",
       "      <td>15</td>\n",
       "      <td>8</td>\n",
       "      <td>NaN</td>\n",
       "      <td>alsa</td>\n",
       "      <td>Alsa</td>\n",
       "      <td>bus</td>\n",
       "    </tr>\n",
       "    <tr>\n",
       "      <th>7</th>\n",
       "      <td>16</td>\n",
       "      <td>9</td>\n",
       "      <td>NaN</td>\n",
       "      <td>distribusion</td>\n",
       "      <td>Distribusion</td>\n",
       "      <td>bus</td>\n",
       "    </tr>\n",
       "    <tr>\n",
       "      <th>8</th>\n",
       "      <td>17</td>\n",
       "      <td>9</td>\n",
       "      <td>31</td>\n",
       "      <td>expressbusMunchen</td>\n",
       "      <td>Expressbus Munchen</td>\n",
       "      <td>bus</td>\n",
       "    </tr>\n",
       "    <tr>\n",
       "      <th>9</th>\n",
       "      <td>18</td>\n",
       "      <td>9</td>\n",
       "      <td>33</td>\n",
       "      <td>berlinLinienBus</td>\n",
       "      <td>Berlin Linien Bus</td>\n",
       "      <td>bus</td>\n",
       "    </tr>\n",
       "  </tbody>\n",
       "</table>\n",
       "</div>"
      ],
      "text/plain": [
       "   id_providers  company_id provider_id               name  \\\n",
       "0             9           1         NaN             ouibus   \n",
       "1            10           2         NaN            deinbus   \n",
       "2            11           3         NaN            infobus   \n",
       "3            12           4         NaN      studentAgency   \n",
       "4            13           5         NaN            flixbus   \n",
       "5            14           6         NaN            driivme   \n",
       "6            15           8         NaN               alsa   \n",
       "7            16           9         NaN       distribusion   \n",
       "8            17           9          31  expressbusMunchen   \n",
       "9            18           9          33    berlinLinienBus   \n",
       "\n",
       "             fullname transport_type  \n",
       "0              Ouibus            bus  \n",
       "1          Deinbus.de            bus  \n",
       "2             Infobus            bus  \n",
       "3      Student Agency            bus  \n",
       "4             Flixbus            bus  \n",
       "5            DriiveMe            car  \n",
       "6                Alsa            bus  \n",
       "7        Distribusion            bus  \n",
       "8  Expressbus Munchen            bus  \n",
       "9   Berlin Linien Bus            bus  "
      ]
     },
     "execution_count": 16,
     "metadata": {},
     "output_type": "execute_result"
    }
   ],
   "source": [
    "providers.head(10)"
   ]
  },
  {
   "cell_type": "markdown",
   "metadata": {},
   "source": [
    "### Exploring stations"
   ]
  },
  {
   "cell_type": "code",
   "execution_count": 17,
   "metadata": {},
   "outputs": [
    {
     "data": {
      "text/html": [
       "<div>\n",
       "<style scoped>\n",
       "    .dataframe tbody tr th:only-of-type {\n",
       "        vertical-align: middle;\n",
       "    }\n",
       "\n",
       "    .dataframe tbody tr th {\n",
       "        vertical-align: top;\n",
       "    }\n",
       "\n",
       "    .dataframe thead th {\n",
       "        text-align: right;\n",
       "    }\n",
       "</style>\n",
       "<table border=\"1\" class=\"dataframe\">\n",
       "  <thead>\n",
       "    <tr style=\"text-align: right;\">\n",
       "      <th></th>\n",
       "      <th>id_stations</th>\n",
       "      <th>unique_name</th>\n",
       "      <th>latitude</th>\n",
       "      <th>longitude</th>\n",
       "    </tr>\n",
       "  </thead>\n",
       "  <tbody>\n",
       "    <tr>\n",
       "      <th>0</th>\n",
       "      <td>1</td>\n",
       "      <td>Aalen (Stuttgarter Straße)</td>\n",
       "      <td>48.835296</td>\n",
       "      <td>10.092956</td>\n",
       "    </tr>\n",
       "    <tr>\n",
       "      <th>1</th>\n",
       "      <td>2</td>\n",
       "      <td>Aéroport Bordeaux-Mérignac</td>\n",
       "      <td>44.830226</td>\n",
       "      <td>-0.700883</td>\n",
       "    </tr>\n",
       "    <tr>\n",
       "      <th>2</th>\n",
       "      <td>3</td>\n",
       "      <td>Aéroport CDG</td>\n",
       "      <td>49.009900</td>\n",
       "      <td>2.559310</td>\n",
       "    </tr>\n",
       "    <tr>\n",
       "      <th>3</th>\n",
       "      <td>4</td>\n",
       "      <td>Aéroport de Berlin-Schönefeld</td>\n",
       "      <td>52.389446</td>\n",
       "      <td>13.520345</td>\n",
       "    </tr>\n",
       "    <tr>\n",
       "      <th>4</th>\n",
       "      <td>5</td>\n",
       "      <td>Aéroport de Dresden</td>\n",
       "      <td>51.123604</td>\n",
       "      <td>13.764737</td>\n",
       "    </tr>\n",
       "  </tbody>\n",
       "</table>\n",
       "</div>"
      ],
      "text/plain": [
       "   id_stations                     unique_name   latitude  longitude\n",
       "0            1      Aalen (Stuttgarter Straße)  48.835296  10.092956\n",
       "1            2      Aéroport Bordeaux-Mérignac  44.830226  -0.700883\n",
       "2            3                   Aéroport CDG   49.009900   2.559310\n",
       "3            4  Aéroport de Berlin-Schönefeld   52.389446  13.520345\n",
       "4            5             Aéroport de Dresden  51.123604  13.764737"
      ]
     },
     "execution_count": 17,
     "metadata": {},
     "output_type": "execute_result"
    }
   ],
   "source": [
    "stations= stations.rename(columns={\"id\":\"id_stations\"})\n",
    "stations.head()"
   ]
  },
  {
   "cell_type": "markdown",
   "metadata": {},
   "source": [
    "### Exploring ticket_data"
   ]
  },
  {
   "cell_type": "code",
   "execution_count": 18,
   "metadata": {
    "scrolled": false
   },
   "outputs": [
    {
     "data": {
      "text/html": [
       "<div>\n",
       "<style scoped>\n",
       "    .dataframe tbody tr th:only-of-type {\n",
       "        vertical-align: middle;\n",
       "    }\n",
       "\n",
       "    .dataframe tbody tr th {\n",
       "        vertical-align: top;\n",
       "    }\n",
       "\n",
       "    .dataframe thead th {\n",
       "        text-align: right;\n",
       "    }\n",
       "</style>\n",
       "<table border=\"1\" class=\"dataframe\">\n",
       "  <thead>\n",
       "    <tr style=\"text-align: right;\">\n",
       "      <th></th>\n",
       "      <th>id_ticket_data</th>\n",
       "      <th>company</th>\n",
       "      <th>o_station</th>\n",
       "      <th>d_station</th>\n",
       "      <th>departure_ts</th>\n",
       "      <th>arrival_ts</th>\n",
       "      <th>price_in_cents</th>\n",
       "      <th>search_ts</th>\n",
       "      <th>middle_stations</th>\n",
       "      <th>other_companies</th>\n",
       "      <th>o_city</th>\n",
       "      <th>d_city</th>\n",
       "    </tr>\n",
       "  </thead>\n",
       "  <tbody>\n",
       "    <tr>\n",
       "      <th>0</th>\n",
       "      <td>6795025</td>\n",
       "      <td>8385</td>\n",
       "      <td>NaN</td>\n",
       "      <td>NaN</td>\n",
       "      <td>2017-10-13 14:00:00+00</td>\n",
       "      <td>2017-10-13 20:10:00+00</td>\n",
       "      <td>4550</td>\n",
       "      <td>2017-10-01 00:13:31.327+00</td>\n",
       "      <td>NaN</td>\n",
       "      <td>NaN</td>\n",
       "      <td>611</td>\n",
       "      <td>542</td>\n",
       "    </tr>\n",
       "    <tr>\n",
       "      <th>1</th>\n",
       "      <td>6795026</td>\n",
       "      <td>9</td>\n",
       "      <td>63.0</td>\n",
       "      <td>1044.0</td>\n",
       "      <td>2017-10-13 13:05:00+00</td>\n",
       "      <td>2017-10-14 06:55:00+00</td>\n",
       "      <td>1450</td>\n",
       "      <td>2017-10-01 00:13:35.773+00</td>\n",
       "      <td>{149,418}</td>\n",
       "      <td>{13}</td>\n",
       "      <td>611</td>\n",
       "      <td>542</td>\n",
       "    </tr>\n",
       "    <tr>\n",
       "      <th>2</th>\n",
       "      <td>6795027</td>\n",
       "      <td>8377</td>\n",
       "      <td>5905.0</td>\n",
       "      <td>6495.0</td>\n",
       "      <td>2017-10-13 13:27:00+00</td>\n",
       "      <td>2017-10-14 21:24:00+00</td>\n",
       "      <td>7400</td>\n",
       "      <td>2017-10-01 00:13:40.212+00</td>\n",
       "      <td>{798,798,6794,6246}</td>\n",
       "      <td>{8377,8376}</td>\n",
       "      <td>611</td>\n",
       "      <td>542</td>\n",
       "    </tr>\n",
       "    <tr>\n",
       "      <th>3</th>\n",
       "      <td>6795028</td>\n",
       "      <td>8377</td>\n",
       "      <td>5905.0</td>\n",
       "      <td>6495.0</td>\n",
       "      <td>2017-10-13 13:27:00+00</td>\n",
       "      <td>2017-10-14 11:02:00+00</td>\n",
       "      <td>13500</td>\n",
       "      <td>2017-10-01 00:13:40.213+00</td>\n",
       "      <td>{798,798,6794,6246}</td>\n",
       "      <td>{8377,8376}</td>\n",
       "      <td>611</td>\n",
       "      <td>542</td>\n",
       "    </tr>\n",
       "    <tr>\n",
       "      <th>4</th>\n",
       "      <td>6795029</td>\n",
       "      <td>8381</td>\n",
       "      <td>5905.0</td>\n",
       "      <td>6495.0</td>\n",
       "      <td>2017-10-13 21:46:00+00</td>\n",
       "      <td>2017-10-14 19:32:00+00</td>\n",
       "      <td>7710</td>\n",
       "      <td>2017-10-01 00:13:40.213+00</td>\n",
       "      <td>{5983,5983}</td>\n",
       "      <td>{8380}</td>\n",
       "      <td>611</td>\n",
       "      <td>542</td>\n",
       "    </tr>\n",
       "  </tbody>\n",
       "</table>\n",
       "</div>"
      ],
      "text/plain": [
       "   id_ticket_data  company  o_station  d_station            departure_ts  \\\n",
       "0         6795025     8385        NaN        NaN  2017-10-13 14:00:00+00   \n",
       "1         6795026        9       63.0     1044.0  2017-10-13 13:05:00+00   \n",
       "2         6795027     8377     5905.0     6495.0  2017-10-13 13:27:00+00   \n",
       "3         6795028     8377     5905.0     6495.0  2017-10-13 13:27:00+00   \n",
       "4         6795029     8381     5905.0     6495.0  2017-10-13 21:46:00+00   \n",
       "\n",
       "               arrival_ts  price_in_cents                   search_ts  \\\n",
       "0  2017-10-13 20:10:00+00            4550  2017-10-01 00:13:31.327+00   \n",
       "1  2017-10-14 06:55:00+00            1450  2017-10-01 00:13:35.773+00   \n",
       "2  2017-10-14 21:24:00+00            7400  2017-10-01 00:13:40.212+00   \n",
       "3  2017-10-14 11:02:00+00           13500  2017-10-01 00:13:40.213+00   \n",
       "4  2017-10-14 19:32:00+00            7710  2017-10-01 00:13:40.213+00   \n",
       "\n",
       "       middle_stations other_companies  o_city  d_city  \n",
       "0                  NaN             NaN     611     542  \n",
       "1            {149,418}            {13}     611     542  \n",
       "2  {798,798,6794,6246}     {8377,8376}     611     542  \n",
       "3  {798,798,6794,6246}     {8377,8376}     611     542  \n",
       "4          {5983,5983}          {8380}     611     542  "
      ]
     },
     "execution_count": 18,
     "metadata": {},
     "output_type": "execute_result"
    }
   ],
   "source": [
    "ticket_data= ticket_data.rename(columns={\"id\":\"id_ticket_data\"})\n",
    "ticket_data.head()"
   ]
  },
  {
   "cell_type": "markdown",
   "metadata": {},
   "source": [
    "To interpret correctly our data, we need the time of different journeys.\n",
    "Because departure_ts and arrival_ts are strings, we need to convert them:"
   ]
  },
  {
   "cell_type": "markdown",
   "metadata": {},
   "source": [
    "### Transforming the string dates into dates"
   ]
  },
  {
   "cell_type": "markdown",
   "metadata": {},
   "source": [
    "Transforming departure_ts"
   ]
  },
  {
   "cell_type": "code",
   "execution_count": 19,
   "metadata": {},
   "outputs": [],
   "source": [
    "departure_ts_date =[]\n",
    "for i in range(len(ticket_data['departure_ts'])):\n",
    "    departure_ts_date.append(datetime.strptime(ticket_data['departure_ts'][i], '%Y-%m-%d %H:%M:%S+%f'))"
   ]
  },
  {
   "cell_type": "raw",
   "metadata": {},
   "source": [
    "ticket_data[\"departure_ts\"]=ticket_data['departure_ts'].apply( datetime.strptime('%Y-%m-%d %H:%M:%S+%f'))"
   ]
  },
  {
   "cell_type": "markdown",
   "metadata": {},
   "source": [
    "Transforming arrival_ts"
   ]
  },
  {
   "cell_type": "code",
   "execution_count": 20,
   "metadata": {},
   "outputs": [],
   "source": [
    "arrival_ts_date = []\n",
    "for i in range(len(ticket_data['arrival_ts'])):\n",
    "    arrival_ts_date.append(datetime.strptime(ticket_data['arrival_ts'][i], '%Y-%m-%d %H:%M:%S+%f'))"
   ]
  },
  {
   "cell_type": "markdown",
   "metadata": {},
   "source": [
    "Drop the columns"
   ]
  },
  {
   "cell_type": "code",
   "execution_count": 21,
   "metadata": {},
   "outputs": [
    {
     "data": {
      "text/html": [
       "<div>\n",
       "<style scoped>\n",
       "    .dataframe tbody tr th:only-of-type {\n",
       "        vertical-align: middle;\n",
       "    }\n",
       "\n",
       "    .dataframe tbody tr th {\n",
       "        vertical-align: top;\n",
       "    }\n",
       "\n",
       "    .dataframe thead th {\n",
       "        text-align: right;\n",
       "    }\n",
       "</style>\n",
       "<table border=\"1\" class=\"dataframe\">\n",
       "  <thead>\n",
       "    <tr style=\"text-align: right;\">\n",
       "      <th></th>\n",
       "      <th>id_ticket_data</th>\n",
       "      <th>company</th>\n",
       "      <th>o_station</th>\n",
       "      <th>d_station</th>\n",
       "      <th>departure_ts</th>\n",
       "      <th>price_in_cents</th>\n",
       "      <th>search_ts</th>\n",
       "      <th>middle_stations</th>\n",
       "      <th>other_companies</th>\n",
       "      <th>o_city</th>\n",
       "      <th>d_city</th>\n",
       "    </tr>\n",
       "  </thead>\n",
       "  <tbody>\n",
       "    <tr>\n",
       "      <th>0</th>\n",
       "      <td>6795025</td>\n",
       "      <td>8385</td>\n",
       "      <td>NaN</td>\n",
       "      <td>NaN</td>\n",
       "      <td>2017-10-13 14:00:00+00</td>\n",
       "      <td>4550</td>\n",
       "      <td>2017-10-01 00:13:31.327+00</td>\n",
       "      <td>NaN</td>\n",
       "      <td>NaN</td>\n",
       "      <td>611</td>\n",
       "      <td>542</td>\n",
       "    </tr>\n",
       "    <tr>\n",
       "      <th>1</th>\n",
       "      <td>6795026</td>\n",
       "      <td>9</td>\n",
       "      <td>63.0</td>\n",
       "      <td>1044.0</td>\n",
       "      <td>2017-10-13 13:05:00+00</td>\n",
       "      <td>1450</td>\n",
       "      <td>2017-10-01 00:13:35.773+00</td>\n",
       "      <td>{149,418}</td>\n",
       "      <td>{13}</td>\n",
       "      <td>611</td>\n",
       "      <td>542</td>\n",
       "    </tr>\n",
       "    <tr>\n",
       "      <th>2</th>\n",
       "      <td>6795027</td>\n",
       "      <td>8377</td>\n",
       "      <td>5905.0</td>\n",
       "      <td>6495.0</td>\n",
       "      <td>2017-10-13 13:27:00+00</td>\n",
       "      <td>7400</td>\n",
       "      <td>2017-10-01 00:13:40.212+00</td>\n",
       "      <td>{798,798,6794,6246}</td>\n",
       "      <td>{8377,8376}</td>\n",
       "      <td>611</td>\n",
       "      <td>542</td>\n",
       "    </tr>\n",
       "    <tr>\n",
       "      <th>3</th>\n",
       "      <td>6795028</td>\n",
       "      <td>8377</td>\n",
       "      <td>5905.0</td>\n",
       "      <td>6495.0</td>\n",
       "      <td>2017-10-13 13:27:00+00</td>\n",
       "      <td>13500</td>\n",
       "      <td>2017-10-01 00:13:40.213+00</td>\n",
       "      <td>{798,798,6794,6246}</td>\n",
       "      <td>{8377,8376}</td>\n",
       "      <td>611</td>\n",
       "      <td>542</td>\n",
       "    </tr>\n",
       "    <tr>\n",
       "      <th>4</th>\n",
       "      <td>6795029</td>\n",
       "      <td>8381</td>\n",
       "      <td>5905.0</td>\n",
       "      <td>6495.0</td>\n",
       "      <td>2017-10-13 21:46:00+00</td>\n",
       "      <td>7710</td>\n",
       "      <td>2017-10-01 00:13:40.213+00</td>\n",
       "      <td>{5983,5983}</td>\n",
       "      <td>{8380}</td>\n",
       "      <td>611</td>\n",
       "      <td>542</td>\n",
       "    </tr>\n",
       "    <tr>\n",
       "      <th>...</th>\n",
       "      <td>...</td>\n",
       "      <td>...</td>\n",
       "      <td>...</td>\n",
       "      <td>...</td>\n",
       "      <td>...</td>\n",
       "      <td>...</td>\n",
       "      <td>...</td>\n",
       "      <td>...</td>\n",
       "      <td>...</td>\n",
       "      <td>...</td>\n",
       "      <td>...</td>\n",
       "    </tr>\n",
       "    <tr>\n",
       "      <th>74163</th>\n",
       "      <td>6869182</td>\n",
       "      <td>13</td>\n",
       "      <td>279.0</td>\n",
       "      <td>10729.0</td>\n",
       "      <td>2017-10-27 02:30:00+00</td>\n",
       "      <td>2590</td>\n",
       "      <td>2017-10-19 10:35:42.943+00</td>\n",
       "      <td>{408,408}</td>\n",
       "      <td>{8371}</td>\n",
       "      <td>628</td>\n",
       "      <td>562</td>\n",
       "    </tr>\n",
       "    <tr>\n",
       "      <th>74164</th>\n",
       "      <td>6869185</td>\n",
       "      <td>9</td>\n",
       "      <td>279.0</td>\n",
       "      <td>304.0</td>\n",
       "      <td>2017-10-27 07:00:00+00</td>\n",
       "      <td>2700</td>\n",
       "      <td>2017-10-19 10:35:42.943+00</td>\n",
       "      <td>{1105,1105}</td>\n",
       "      <td>{9}</td>\n",
       "      <td>628</td>\n",
       "      <td>562</td>\n",
       "    </tr>\n",
       "    <tr>\n",
       "      <th>74165</th>\n",
       "      <td>6869187</td>\n",
       "      <td>8371</td>\n",
       "      <td>10642.0</td>\n",
       "      <td>304.0</td>\n",
       "      <td>2017-10-27 08:30:00+00</td>\n",
       "      <td>3000</td>\n",
       "      <td>2017-10-19 10:35:42.943+00</td>\n",
       "      <td>{1105,1105}</td>\n",
       "      <td>{9}</td>\n",
       "      <td>628</td>\n",
       "      <td>562</td>\n",
       "    </tr>\n",
       "    <tr>\n",
       "      <th>74166</th>\n",
       "      <td>6869189</td>\n",
       "      <td>13</td>\n",
       "      <td>279.0</td>\n",
       "      <td>304.0</td>\n",
       "      <td>2017-10-27 13:25:00+00</td>\n",
       "      <td>2880</td>\n",
       "      <td>2017-10-19 10:35:42.943+00</td>\n",
       "      <td>{863,863}</td>\n",
       "      <td>{13}</td>\n",
       "      <td>628</td>\n",
       "      <td>562</td>\n",
       "    </tr>\n",
       "    <tr>\n",
       "      <th>74167</th>\n",
       "      <td>6869191</td>\n",
       "      <td>8371</td>\n",
       "      <td>10642.0</td>\n",
       "      <td>10729.0</td>\n",
       "      <td>2017-10-27 14:45:00+00</td>\n",
       "      <td>2000</td>\n",
       "      <td>2017-10-19 10:35:42.943+00</td>\n",
       "      <td>{863,863}</td>\n",
       "      <td>{8371}</td>\n",
       "      <td>628</td>\n",
       "      <td>562</td>\n",
       "    </tr>\n",
       "  </tbody>\n",
       "</table>\n",
       "<p>74168 rows × 11 columns</p>\n",
       "</div>"
      ],
      "text/plain": [
       "       id_ticket_data  company  o_station  d_station            departure_ts  \\\n",
       "0             6795025     8385        NaN        NaN  2017-10-13 14:00:00+00   \n",
       "1             6795026        9       63.0     1044.0  2017-10-13 13:05:00+00   \n",
       "2             6795027     8377     5905.0     6495.0  2017-10-13 13:27:00+00   \n",
       "3             6795028     8377     5905.0     6495.0  2017-10-13 13:27:00+00   \n",
       "4             6795029     8381     5905.0     6495.0  2017-10-13 21:46:00+00   \n",
       "...               ...      ...        ...        ...                     ...   \n",
       "74163         6869182       13      279.0    10729.0  2017-10-27 02:30:00+00   \n",
       "74164         6869185        9      279.0      304.0  2017-10-27 07:00:00+00   \n",
       "74165         6869187     8371    10642.0      304.0  2017-10-27 08:30:00+00   \n",
       "74166         6869189       13      279.0      304.0  2017-10-27 13:25:00+00   \n",
       "74167         6869191     8371    10642.0    10729.0  2017-10-27 14:45:00+00   \n",
       "\n",
       "       price_in_cents                   search_ts      middle_stations  \\\n",
       "0                4550  2017-10-01 00:13:31.327+00                  NaN   \n",
       "1                1450  2017-10-01 00:13:35.773+00            {149,418}   \n",
       "2                7400  2017-10-01 00:13:40.212+00  {798,798,6794,6246}   \n",
       "3               13500  2017-10-01 00:13:40.213+00  {798,798,6794,6246}   \n",
       "4                7710  2017-10-01 00:13:40.213+00          {5983,5983}   \n",
       "...               ...                         ...                  ...   \n",
       "74163            2590  2017-10-19 10:35:42.943+00            {408,408}   \n",
       "74164            2700  2017-10-19 10:35:42.943+00          {1105,1105}   \n",
       "74165            3000  2017-10-19 10:35:42.943+00          {1105,1105}   \n",
       "74166            2880  2017-10-19 10:35:42.943+00            {863,863}   \n",
       "74167            2000  2017-10-19 10:35:42.943+00            {863,863}   \n",
       "\n",
       "      other_companies  o_city  d_city  \n",
       "0                 NaN     611     542  \n",
       "1                {13}     611     542  \n",
       "2         {8377,8376}     611     542  \n",
       "3         {8377,8376}     611     542  \n",
       "4              {8380}     611     542  \n",
       "...               ...     ...     ...  \n",
       "74163          {8371}     628     562  \n",
       "74164             {9}     628     562  \n",
       "74165             {9}     628     562  \n",
       "74166            {13}     628     562  \n",
       "74167          {8371}     628     562  \n",
       "\n",
       "[74168 rows x 11 columns]"
      ]
     },
     "execution_count": 21,
     "metadata": {},
     "output_type": "execute_result"
    }
   ],
   "source": [
    "ticket_data.drop('departure_ts', axis = 1)\n",
    "ticket_data.drop('arrival_ts', axis = 1)"
   ]
  },
  {
   "cell_type": "markdown",
   "metadata": {},
   "source": [
    "Recreating the columns with datetime"
   ]
  },
  {
   "cell_type": "code",
   "execution_count": 22,
   "metadata": {},
   "outputs": [],
   "source": [
    "ticket_data['departure_ts'] = departure_ts_date\n",
    "ticket_data['arrival_ts'] = arrival_ts_date"
   ]
  },
  {
   "cell_type": "markdown",
   "metadata": {},
   "source": [
    "Checking if it's the right type"
   ]
  },
  {
   "cell_type": "code",
   "execution_count": 23,
   "metadata": {},
   "outputs": [
    {
     "name": "stdout",
     "output_type": "stream",
     "text": [
      "<class 'pandas._libs.tslibs.timestamps.Timestamp'> <class 'pandas._libs.tslibs.timestamps.Timestamp'>\n"
     ]
    }
   ],
   "source": [
    "print(type(ticket_data['departure_ts'][0]), type(ticket_data['arrival_ts'][0]))"
   ]
  },
  {
   "cell_type": "markdown",
   "metadata": {},
   "source": [
    "## Merging ticket_data and cities with o_city"
   ]
  },
  {
   "cell_type": "code",
   "execution_count": 24,
   "metadata": {},
   "outputs": [],
   "source": [
    "merge_data = pd.merge(ticket_data, cities, left_on= 'o_city', right_on='id_cities')"
   ]
  },
  {
   "cell_type": "code",
   "execution_count": 25,
   "metadata": {},
   "outputs": [
    {
     "data": {
      "text/plain": [
       "(74168, 12)"
      ]
     },
     "execution_count": 25,
     "metadata": {},
     "output_type": "execute_result"
    }
   ],
   "source": [
    "ticket_data.shape"
   ]
  },
  {
   "cell_type": "markdown",
   "metadata": {},
   "source": [
    "ticket_data has 74 168 rows and 12 columns"
   ]
  },
  {
   "cell_type": "code",
   "execution_count": 26,
   "metadata": {},
   "outputs": [
    {
     "data": {
      "text/plain": [
       "(8040, 4)"
      ]
     },
     "execution_count": 26,
     "metadata": {},
     "output_type": "execute_result"
    }
   ],
   "source": [
    "cities.shape"
   ]
  },
  {
   "cell_type": "markdown",
   "metadata": {},
   "source": [
    "cities has 8 040 rows and 5 columns"
   ]
  },
  {
   "cell_type": "code",
   "execution_count": 27,
   "metadata": {},
   "outputs": [
    {
     "data": {
      "text/plain": [
       "(74168, 16)"
      ]
     },
     "execution_count": 27,
     "metadata": {},
     "output_type": "execute_result"
    }
   ],
   "source": [
    "merge_data.shape"
   ]
  },
  {
   "cell_type": "markdown",
   "metadata": {},
   "source": [
    "So it's perfectly normal that ticket_cities has 74 1618 rows and 17 (12 + 5) columns"
   ]
  },
  {
   "cell_type": "markdown",
   "metadata": {},
   "source": [
    "### Now, we merge ticket_data with d_cities"
   ]
  },
  {
   "cell_type": "code",
   "execution_count": 28,
   "metadata": {},
   "outputs": [],
   "source": [
    "merge_data= pd.merge(merge_data, cities, how = 'left', left_on= 'd_city', right_on = 'id_cities')"
   ]
  },
  {
   "cell_type": "markdown",
   "metadata": {},
   "source": [
    "For better comprehension, we rename the columns:"
   ]
  },
  {
   "cell_type": "code",
   "execution_count": 29,
   "metadata": {},
   "outputs": [],
   "source": [
    "merge_data = merge_data.rename(columns={\"latitude_x\" : \"latitude_o\",\"longitude_x\" : \"longitude_o\",\n",
    "                                                    \"latitude_y\" : \"latitude_d\", \"longitude_y\" : \"longitude_d\",\n",
    "                                                   \"id_cities_x\" : \"id_cities_o\", \"id_cities_y\" : \"id_cities_d\",\n",
    "                                                   \"unique_name_x\" : \"cities_name_o\", \"unique_name_y\" : \"cities_name_d\"})"
   ]
  },
  {
   "cell_type": "markdown",
   "metadata": {},
   "source": [
    "### Merging with providers"
   ]
  },
  {
   "cell_type": "code",
   "execution_count": 30,
   "metadata": {},
   "outputs": [],
   "source": [
    "merge_data = merge_data.merge(providers, how='left', left_on = 'company', right_on = 'company_id')"
   ]
  },
  {
   "cell_type": "markdown",
   "metadata": {},
   "source": [
    "Again, for better understanding, I renamed the columns \n",
    "originally belonging to providers"
   ]
  },
  {
   "cell_type": "code",
   "execution_count": 31,
   "metadata": {},
   "outputs": [],
   "source": [
    "merge_data = merge_data.rename(columns={'name': 'name_providers', 'fullname' : 'fullname_providers'})"
   ]
  },
  {
   "cell_type": "markdown",
   "metadata": {},
   "source": [
    "### Merging with stations"
   ]
  },
  {
   "cell_type": "markdown",
   "metadata": {},
   "source": [
    "First, we merge with o_station"
   ]
  },
  {
   "cell_type": "code",
   "execution_count": 32,
   "metadata": {},
   "outputs": [],
   "source": [
    "merge_data = merge_data.merge(stations, how='left', left_on = 'o_station', right_on = 'id_stations')"
   ]
  },
  {
   "cell_type": "markdown",
   "metadata": {},
   "source": [
    "Then, we merge with d_station"
   ]
  },
  {
   "cell_type": "code",
   "execution_count": 33,
   "metadata": {},
   "outputs": [],
   "source": [
    "merge_data = merge_data.merge(stations, how='left', left_on = 'd_station', right_on = 'id_stations')"
   ]
  },
  {
   "cell_type": "markdown",
   "metadata": {},
   "source": [
    "Finally, we rename the columns"
   ]
  },
  {
   "cell_type": "code",
   "execution_count": 34,
   "metadata": {},
   "outputs": [],
   "source": [
    "merge_data = merge_data.rename(columns={\"latitude_x\" : \"latitude_station_o\",\"longitude_x\" : \"longitude_station_o\",\n",
    "                                                    \"latitude_y\" : \"latitude_station_d\", \"longitude_y\" : \"longitude_station_d\",\n",
    "                                                   \"id_stations_x\" : \"id_stations_o\", \"id_stations_y\" : \"id_stations_d\",\n",
    "                                                   \"unique_name_x\" : \"station_name_o\", \"unique_name_y\" : \"station_name_d\"})"
   ]
  },
  {
   "cell_type": "markdown",
   "metadata": {},
   "source": [
    "## Our merged data set has those columns: "
   ]
  },
  {
   "cell_type": "code",
   "execution_count": 35,
   "metadata": {},
   "outputs": [
    {
     "data": {
      "text/plain": [
       "Index(['id_ticket_data', 'company', 'o_station', 'd_station', 'departure_ts',\n",
       "       'arrival_ts', 'price_in_cents', 'search_ts', 'middle_stations',\n",
       "       'other_companies', 'o_city', 'd_city', 'id_cities_o', 'cities_name_o',\n",
       "       'latitude_o', 'longitude_o', 'id_cities_d', 'cities_name_d',\n",
       "       'latitude_d', 'longitude_d', 'id_providers', 'company_id',\n",
       "       'provider_id', 'name_providers', 'fullname_providers', 'transport_type',\n",
       "       'id_stations_o', 'station_name_o', 'latitude_station_o',\n",
       "       'longitude_station_o', 'id_stations_d', 'station_name_d',\n",
       "       'latitude_station_d', 'longitude_station_d'],\n",
       "      dtype='object')"
      ]
     },
     "execution_count": 35,
     "metadata": {},
     "output_type": "execute_result"
    }
   ],
   "source": [
    "merge_data.columns"
   ]
  },
  {
   "cell_type": "markdown",
   "metadata": {},
   "source": [
    "# Analyzing the ticket_data"
   ]
  },
  {
   "cell_type": "markdown",
   "metadata": {},
   "source": [
    "## Cost of the tickets"
   ]
  },
  {
   "cell_type": "markdown",
   "metadata": {},
   "source": [
    "Because in our data, the price is in cents, I converted it in dollars by dividing it by 100"
   ]
  },
  {
   "cell_type": "markdown",
   "metadata": {},
   "source": [
    "### Minimum price"
   ]
  },
  {
   "cell_type": "code",
   "execution_count": 36,
   "metadata": {},
   "outputs": [
    {
     "name": "stdout",
     "output_type": "stream",
     "text": [
      "The cheapest ticket costs: 3.0 $\n"
     ]
    }
   ],
   "source": [
    "cheapest_ticket=merge_data['price_in_cents'].min()/100\n",
    "print(\"The cheapest ticket costs:\", cheapest_ticket , \"$\")"
   ]
  },
  {
   "cell_type": "markdown",
   "metadata": {},
   "source": [
    "### Maximum price"
   ]
  },
  {
   "cell_type": "code",
   "execution_count": 37,
   "metadata": {},
   "outputs": [
    {
     "name": "stdout",
     "output_type": "stream",
     "text": [
      "The most expensive ticket costs: 385.5 $\n"
     ]
    }
   ],
   "source": [
    "expensive_ticket=merge_data['price_in_cents'].max()/100\n",
    "print(\"The most expensive ticket costs:\", expensive_ticket, \"$\")"
   ]
  },
  {
   "cell_type": "markdown",
   "metadata": {},
   "source": [
    "### Average price"
   ]
  },
  {
   "cell_type": "code",
   "execution_count": 38,
   "metadata": {},
   "outputs": [
    {
     "name": "stdout",
     "output_type": "stream",
     "text": [
      "The mean price for a ticket costs: 34 $\n"
     ]
    }
   ],
   "source": [
    "mean_ticket=round(merge_data['price_in_cents'].mean()/100)\n",
    "print(\"The mean price for a ticket costs:\",mean_ticket,\"$\")"
   ]
  },
  {
   "cell_type": "markdown",
   "metadata": {},
   "source": [
    "## Calculation of a journey time"
   ]
  },
  {
   "cell_type": "markdown",
   "metadata": {},
   "source": [
    "In the dataset, the time of departure/arrival was a string.\n",
    "\n",
    "Therefore, I implemented a method to convert a float into a string. It will be useful to display and interpret the journey time "
   ]
  },
  {
   "cell_type": "code",
   "execution_count": 39,
   "metadata": {},
   "outputs": [],
   "source": [
    "def time_format(time):\n",
    "    day = time // (24 * 3600)\n",
    "    time = time % (24 * 3600)\n",
    "    hour = time // 3600\n",
    "    time %= 3600\n",
    "    minutes = time // 60\n",
    "    time %= 60\n",
    "    seconds = time\n",
    "    print(\"%d days %d hours %d minutes and %d seconds\" % (day, hour, minutes, seconds))"
   ]
  },
  {
   "cell_type": "markdown",
   "metadata": {},
   "source": [
    "### Creating a new column journey time in our data set"
   ]
  },
  {
   "cell_type": "markdown",
   "metadata": {},
   "source": [
    "Because we need to know how long a journey can be,\n",
    "I created a columns journey_time.\n",
    "\n",
    "It will be helpful to compare the times of different journeys"
   ]
  },
  {
   "cell_type": "code",
   "execution_count": 40,
   "metadata": {},
   "outputs": [],
   "source": [
    "merge_data['journey_time'] = round((pd.to_datetime(merge_data.arrival_ts) - \n",
    "                                pd.to_datetime(merge_data.departure_ts)).dt.total_seconds(),2)"
   ]
  },
  {
   "cell_type": "markdown",
   "metadata": {},
   "source": [
    "Minimum journey time"
   ]
  },
  {
   "cell_type": "code",
   "execution_count": 41,
   "metadata": {},
   "outputs": [
    {
     "data": {
      "text/html": [
       "<div>\n",
       "<style scoped>\n",
       "    .dataframe tbody tr th:only-of-type {\n",
       "        vertical-align: middle;\n",
       "    }\n",
       "\n",
       "    .dataframe tbody tr th {\n",
       "        vertical-align: top;\n",
       "    }\n",
       "\n",
       "    .dataframe thead th {\n",
       "        text-align: right;\n",
       "    }\n",
       "</style>\n",
       "<table border=\"1\" class=\"dataframe\">\n",
       "  <thead>\n",
       "    <tr style=\"text-align: right;\">\n",
       "      <th></th>\n",
       "      <th>journey_time</th>\n",
       "      <th>cities_name_o</th>\n",
       "      <th>cities_name_d</th>\n",
       "    </tr>\n",
       "  </thead>\n",
       "  <tbody>\n",
       "    <tr>\n",
       "      <th>111064</th>\n",
       "      <td>1200.0</td>\n",
       "      <td>paris</td>\n",
       "      <td>orleans</td>\n",
       "    </tr>\n",
       "  </tbody>\n",
       "</table>\n",
       "</div>"
      ],
      "text/plain": [
       "        journey_time cities_name_o cities_name_d\n",
       "111064        1200.0         paris       orleans"
      ]
     },
     "execution_count": 41,
     "metadata": {},
     "output_type": "execute_result"
    }
   ],
   "source": [
    "merge_data[merge_data.journey_time ==  merge_data.journey_time.min()][['journey_time','cities_name_o', 'cities_name_d']].head(1)"
   ]
  },
  {
   "cell_type": "code",
   "execution_count": 42,
   "metadata": {},
   "outputs": [
    {
     "name": "stdout",
     "output_type": "stream",
     "text": [
      "The minimum travel time for a trip is: \n",
      "0 days 0 hours 20 minutes and 0 seconds\n"
     ]
    }
   ],
   "source": [
    "print(\"The minimum travel time for a trip is: \")\n",
    "time_format(merge_data.journey_time.min())"
   ]
  },
  {
   "cell_type": "markdown",
   "metadata": {},
   "source": [
    "Maximum journey time"
   ]
  },
  {
   "cell_type": "code",
   "execution_count": 43,
   "metadata": {},
   "outputs": [
    {
     "data": {
      "text/html": [
       "<div>\n",
       "<style scoped>\n",
       "    .dataframe tbody tr th:only-of-type {\n",
       "        vertical-align: middle;\n",
       "    }\n",
       "\n",
       "    .dataframe tbody tr th {\n",
       "        vertical-align: top;\n",
       "    }\n",
       "\n",
       "    .dataframe thead th {\n",
       "        text-align: right;\n",
       "    }\n",
       "</style>\n",
       "<table border=\"1\" class=\"dataframe\">\n",
       "  <thead>\n",
       "    <tr style=\"text-align: right;\">\n",
       "      <th></th>\n",
       "      <th>journey_time</th>\n",
       "      <th>cities_name_o</th>\n",
       "      <th>cities_name_d</th>\n",
       "    </tr>\n",
       "  </thead>\n",
       "  <tbody>\n",
       "    <tr>\n",
       "      <th>292761</th>\n",
       "      <td>1774260.0</td>\n",
       "      <td>bordeaux</td>\n",
       "      <td>lille</td>\n",
       "    </tr>\n",
       "  </tbody>\n",
       "</table>\n",
       "</div>"
      ],
      "text/plain": [
       "        journey_time cities_name_o cities_name_d\n",
       "292761     1774260.0      bordeaux         lille"
      ]
     },
     "execution_count": 43,
     "metadata": {},
     "output_type": "execute_result"
    }
   ],
   "source": [
    "merge_data[merge_data.journey_time ==  merge_data.journey_time.max()][['journey_time','cities_name_o', 'cities_name_d']].head(1)"
   ]
  },
  {
   "cell_type": "code",
   "execution_count": 44,
   "metadata": {},
   "outputs": [
    {
     "name": "stdout",
     "output_type": "stream",
     "text": [
      "The maximum travel time for a trip is: \n",
      "20 days 12 hours 51 minutes and 0 seconds\n"
     ]
    }
   ],
   "source": [
    "print(\"The maximum travel time for a trip is: \")\n",
    "time_format(merge_data.journey_time.max())"
   ]
  },
  {
   "cell_type": "markdown",
   "metadata": {},
   "source": [
    "Average journey time"
   ]
  },
  {
   "cell_type": "code",
   "execution_count": 45,
   "metadata": {},
   "outputs": [
    {
     "name": "stdout",
     "output_type": "stream",
     "text": [
      "In average, the travel time for a trip is: \n",
      "0 days 13 hours 34 minutes and 14 seconds\n"
     ]
    }
   ],
   "source": [
    "print(\"In average, the travel time for a trip is: \")\n",
    "time_format(merge_data.journey_time.mean())"
   ]
  },
  {
   "cell_type": "markdown",
   "metadata": {},
   "source": [
    "### The average price in function of the transport type"
   ]
  },
  {
   "cell_type": "markdown",
   "metadata": {},
   "source": [
    "Creating a dictionnary that will contain the transport type and the mean price of it"
   ]
  },
  {
   "cell_type": "code",
   "execution_count": 46,
   "metadata": {},
   "outputs": [],
   "source": [
    "price_vs_transport = {}"
   ]
  },
  {
   "cell_type": "markdown",
   "metadata": {},
   "source": [
    "Average price of a train ticket"
   ]
  },
  {
   "cell_type": "code",
   "execution_count": 47,
   "metadata": {},
   "outputs": [],
   "source": [
    "price_vs_transport['train'] = round(float(merge_data[merge_data.transport_type ==  \"train\"]\n",
    "                                        [['price_in_cents']].mean()/100),2)"
   ]
  },
  {
   "cell_type": "markdown",
   "metadata": {},
   "source": [
    "Average price of a bus ticket"
   ]
  },
  {
   "cell_type": "code",
   "execution_count": 48,
   "metadata": {},
   "outputs": [],
   "source": [
    "price_vs_transport['bus'] = round(float(merge_data[merge_data.transport_type ==  \"bus\"]\n",
    "                                      [['price_in_cents']].mean()/100),2)"
   ]
  },
  {
   "cell_type": "markdown",
   "metadata": {},
   "source": [
    "Average price of a covoit ticket"
   ]
  },
  {
   "cell_type": "code",
   "execution_count": 49,
   "metadata": {},
   "outputs": [],
   "source": [
    "price_vs_transport['carpooling'] = round(float(merge_data[merge_data.transport_type ==  \"carpooling\"]\n",
    "                                             [['price_in_cents']].mean()/100),2)"
   ]
  },
  {
   "cell_type": "markdown",
   "metadata": {},
   "source": [
    "Displaying the result:"
   ]
  },
  {
   "cell_type": "code",
   "execution_count": 50,
   "metadata": {},
   "outputs": [
    {
     "name": "stdout",
     "output_type": "stream",
     "text": [
      "A train ticket cost :  32.66 $\n",
      "A bus ticket cost :  33.33 $\n",
      "A carpooling ticket cost :  38.69 $\n"
     ]
    }
   ],
   "source": [
    "for transport_type, price in price_vs_transport.items():\n",
    "    print(\"A\", transport_type, 'ticket cost : ', price, '$')"
   ]
  },
  {
   "cell_type": "markdown",
   "metadata": {},
   "source": [
    "Displaying the results :"
   ]
  },
  {
   "cell_type": "code",
   "execution_count": 51,
   "metadata": {},
   "outputs": [
    {
     "data": {
      "image/png": "[encoded data removed]",
      "text/plain": [
       "<Figure size 432x288 with 1 Axes>"
      ]
     },
     "metadata": {
      "needs_background": "light"
     },
     "output_type": "display_data"
    }
   ],
   "source": [
    "plt.bar(price_vs_transport.keys(), price_vs_transport.values(), color = 'mediumseagreen')\n",
    "plt.xlabel(\"Transport type\")\n",
    "plt.ylabel(\"Mean ticket price\")\n",
    "plt.title(\" The average ticket price in function of the transport type\")\n",
    "plt.show()\n"
   ]
  },
  {
   "cell_type": "markdown",
   "metadata": {},
   "source": [
    "This indicate that, in average, a bus ticket price and a train ticket price is not so different.\n",
    "However, if you choose to travel by carpooling, it will be cheaper."
   ]
  },
  {
   "cell_type": "markdown",
   "metadata": {},
   "source": [
    "### Time travel in function of the transport type"
   ]
  },
  {
   "cell_type": "markdown",
   "metadata": {},
   "source": [
    "We create a dictionnary that will contain the transport type and the mean price of it"
   ]
  },
  {
   "cell_type": "code",
   "execution_count": 52,
   "metadata": {},
   "outputs": [],
   "source": [
    "time_vs_transport = {}"
   ]
  },
  {
   "cell_type": "markdown",
   "metadata": {},
   "source": [
    "Average time of a train journey"
   ]
  },
  {
   "cell_type": "code",
   "execution_count": 53,
   "metadata": {},
   "outputs": [],
   "source": [
    "time_vs_transport['train'] = float(merge_data[merge_data.transport_type ==  \"train\"][['journey_time']].mean())"
   ]
  },
  {
   "cell_type": "markdown",
   "metadata": {},
   "source": [
    "Average time of a bus journey"
   ]
  },
  {
   "cell_type": "code",
   "execution_count": 54,
   "metadata": {},
   "outputs": [],
   "source": [
    "time_vs_transport['bus'] = float(merge_data[merge_data.transport_type ==  \"bus\"][['journey_time']].mean())"
   ]
  },
  {
   "cell_type": "markdown",
   "metadata": {},
   "source": [
    "Average time of a carpooling journey"
   ]
  },
  {
   "cell_type": "code",
   "execution_count": 55,
   "metadata": {},
   "outputs": [],
   "source": [
    "time_vs_transport['carpooling'] = float(merge_data[merge_data.transport_type ==  \"carpooling\"][['journey_time']].mean())"
   ]
  },
  {
   "cell_type": "markdown",
   "metadata": {},
   "source": [
    "Displaying the results"
   ]
  },
  {
   "cell_type": "code",
   "execution_count": 56,
   "metadata": {},
   "outputs": [
    {
     "name": "stdout",
     "output_type": "stream",
     "text": [
      "A train is in average\n",
      "0 days 12 hours 42 minutes and 13 seconds\n",
      "None\n",
      "A bus is in average\n",
      "0 days 14 hours 14 minutes and 50 seconds\n",
      "None\n",
      "A carpooling is in average\n",
      "0 days 11 hours 20 minutes and 0 seconds\n",
      "None\n"
     ]
    }
   ],
   "source": [
    "for transport_type, time in time_vs_transport.items():\n",
    "    print(\"A\", transport_type, 'is in average')\n",
    "    print(time_format(time))"
   ]
  },
  {
   "cell_type": "code",
   "execution_count": 57,
   "metadata": {},
   "outputs": [
    {
     "data": {
      "image/png": "[encoded data removed]",
      "text/plain": [
       "<Figure size 432x288 with 1 Axes>"
      ]
     },
     "metadata": {
      "needs_background": "light"
     },
     "output_type": "display_data"
    }
   ],
   "source": [
    "plt.bar(time_vs_transport.keys(), time_vs_transport.values(), color = 'tab:cyan')\n",
    "plt.xlabel(\"Transport type\")\n",
    "plt.ylabel(\"Mean time\")\n",
    "plt.title(\" The average time in function of the transport type\")\n",
    "plt.show()"
   ]
  },
  {
   "cell_type": "markdown",
   "metadata": {},
   "source": [
    "This histogram validates that, in average, carpooling as the lower travel time."
   ]
  },
  {
   "cell_type": "markdown",
   "metadata": {},
   "source": [
    "# Now, let's look how the price and the time of travel vary in function of the distances "
   ]
  },
  {
   "cell_type": "markdown",
   "metadata": {},
   "source": [
    "## Creating a column distance "
   ]
  },
  {
   "cell_type": "markdown",
   "metadata": {},
   "source": [
    "Creating a method to calculate distances between two cities "
   ]
  },
  {
   "cell_type": "code",
   "execution_count": 58,
   "metadata": {},
   "outputs": [],
   "source": [
    "def distance(o_lat, o_lon, d_lat, d_lon):\n",
    "    o_lat = radians(o_lat)\n",
    "    o_lon = radians(o_lon)\n",
    "    d_lat = radians(d_lat)\n",
    "    d_lon = radians(d_lon)\n",
    "    dist = 6371.01 * acos(sin(o_lat)*sin(d_lat) + cos(o_lat)*cos(d_lat)*cos(o_lon - d_lon))\n",
    "    return dist"
   ]
  },
  {
   "cell_type": "markdown",
   "metadata": {},
   "source": [
    "Creating a method to display the distance"
   ]
  },
  {
   "cell_type": "code",
   "execution_count": 59,
   "metadata": {},
   "outputs": [],
   "source": [
    "def distance_format(dist):\n",
    "       print(\"The distance is %.2fkm.\" % dist)"
   ]
  },
  {
   "cell_type": "markdown",
   "metadata": {},
   "source": [
    "Applying this function to our data"
   ]
  },
  {
   "cell_type": "code",
   "execution_count": 60,
   "metadata": {},
   "outputs": [],
   "source": [
    "distance_km = []\n",
    "for i in range(len(merge_data['latitude_o'])):\n",
    "    distance_km.append(distance(merge_data['latitude_o'][i],\n",
    "                                merge_data['longitude_o'][i],\n",
    "                                merge_data['latitude_d'][i],\n",
    "                                merge_data['longitude_d'][i]))"
   ]
  },
  {
   "cell_type": "code",
   "execution_count": 61,
   "metadata": {},
   "outputs": [],
   "source": [
    "merge_data['distance_km'] = distance_km"
   ]
  },
  {
   "cell_type": "markdown",
   "metadata": {},
   "source": [
    "## Average price in function of the distance"
   ]
  },
  {
   "cell_type": "markdown",
   "metadata": {},
   "source": [
    "We create a dictionnary that will contain the distance and the mean price of it"
   ]
  },
  {
   "cell_type": "code",
   "execution_count": 62,
   "metadata": {},
   "outputs": [],
   "source": [
    "price_vs_distance= {}"
   ]
  },
  {
   "cell_type": "markdown",
   "metadata": {},
   "source": [
    "Average price when the distance of a trip is between 0 and 200 km"
   ]
  },
  {
   "cell_type": "code",
   "execution_count": 63,
   "metadata": {},
   "outputs": [],
   "source": [
    "price_vs_distance['0-200 km'] = round(float(merge_data[(merge_data['distance_km'] >=  0) \n",
    "                                                & (merge_data.distance_km <= 200)][['price_in_cents']].mean())/100,2)"
   ]
  },
  {
   "cell_type": "markdown",
   "metadata": {},
   "source": [
    "Average price when the distance of a trip is between 201 and 800km"
   ]
  },
  {
   "cell_type": "code",
   "execution_count": 64,
   "metadata": {},
   "outputs": [],
   "source": [
    "price_vs_distance['201-800 km'] = round(float(merge_data[(merge_data['distance_km'] >=  201) \n",
    "                                                   & (merge_data.distance_km <= 800)][['price_in_cents']].mean())/100,2)"
   ]
  },
  {
   "cell_type": "markdown",
   "metadata": {},
   "source": [
    "Average price when the distance of a trip is between 800 and 2000km"
   ]
  },
  {
   "cell_type": "code",
   "execution_count": 65,
   "metadata": {},
   "outputs": [],
   "source": [
    "price_vs_distance['800-2000 km'] = round(float(merge_data[(merge_data['distance_km'] >=  800) \n",
    "                                             & (merge_data.distance_km <= 2000)][['price_in_cents']].mean())/100,2)"
   ]
  },
  {
   "cell_type": "markdown",
   "metadata": {},
   "source": [
    "Average price when the distance of a trip is superior than 2000 km"
   ]
  },
  {
   "cell_type": "code",
   "execution_count": 66,
   "metadata": {},
   "outputs": [
    {
     "name": "stdout",
     "output_type": "stream",
     "text": [
      "nan\n"
     ]
    }
   ],
   "source": [
    "print(round(float(merge_data[merge_data['distance_km'] > 2000][['price_in_cents']].mean())/100,2))"
   ]
  },
  {
   "cell_type": "markdown",
   "metadata": {},
   "source": [
    "It seems like there isn't a distance superior than 2000 in our dataset."
   ]
  },
  {
   "cell_type": "markdown",
   "metadata": {},
   "source": [
    "Displaying the result"
   ]
  },
  {
   "cell_type": "code",
   "execution_count": 67,
   "metadata": {},
   "outputs": [
    {
     "name": "stdout",
     "output_type": "stream",
     "text": [
      "A trip with a distance of 0-200 km cost 20.23 $ in average.\n",
      "A trip with a distance of 201-800 km cost 34.31 $ in average.\n",
      "A trip with a distance of 800-2000 km cost 62.1 $ in average.\n"
     ]
    }
   ],
   "source": [
    "for distance, price in price_vs_distance.items():\n",
    "    print(\"A trip with a distance of\", distance, 'cost', price, '$ in average.')"
   ]
  },
  {
   "cell_type": "markdown",
   "metadata": {},
   "source": [
    "Let's visualize how the price varies in function of the distance:"
   ]
  },
  {
   "cell_type": "code",
   "execution_count": 68,
   "metadata": {},
   "outputs": [
    {
     "data": {
      "image/png": "[encoded data removed]",
      "text/plain": [
       "<Figure size 432x288 with 1 Axes>"
      ]
     },
     "metadata": {
      "needs_background": "light"
     },
     "output_type": "display_data"
    }
   ],
   "source": [
    "plt.bar(price_vs_distance.keys(), price_vs_distance.values(), color = 'tab:pink')\n",
    "plt.xlabel(\"Distance in km\")\n",
    "plt.ylabel(\"Price\")\n",
    "plt.title(\" The average price of a ticket in function of the distance\")\n",
    "plt.show()"
   ]
  },
  {
   "cell_type": "markdown",
   "metadata": {},
   "source": [
    "As we saw previously, when the distance is higher, the price of a ticket increase in average."
   ]
  },
  {
   "cell_type": "markdown",
   "metadata": {},
   "source": [
    "## Average time travel in function of the distance"
   ]
  },
  {
   "cell_type": "markdown",
   "metadata": {},
   "source": [
    "We create a dictionnary that will contain the distance and the mean time travel"
   ]
  },
  {
   "cell_type": "code",
   "execution_count": 69,
   "metadata": {},
   "outputs": [],
   "source": [
    "time_vs_distance ={}"
   ]
  },
  {
   "cell_type": "markdown",
   "metadata": {},
   "source": [
    "Average price when the distance of a trip is between 0 and 200 km"
   ]
  },
  {
   "cell_type": "code",
   "execution_count": 70,
   "metadata": {},
   "outputs": [],
   "source": [
    "time_vs_distance['0-200 km'] = float(merge_data[(merge_data['distance_km'] >=  0) \n",
    "                                                & (merge_data.distance_km <= 200)][['journey_time']].mean())"
   ]
  },
  {
   "cell_type": "markdown",
   "metadata": {},
   "source": [
    "Average price when the distance of a trip is between 201 and 800 km"
   ]
  },
  {
   "cell_type": "code",
   "execution_count": 71,
   "metadata": {},
   "outputs": [],
   "source": [
    "time_vs_distance['201-800 km'] = float(merge_data[(merge_data['distance_km'] >=  201) \n",
    "                                                & (merge_data.distance_km <= 800)][['journey_time']].mean())"
   ]
  },
  {
   "cell_type": "markdown",
   "metadata": {},
   "source": [
    "Average price when the distance of a trip is between 801 and 2000 km"
   ]
  },
  {
   "cell_type": "code",
   "execution_count": 72,
   "metadata": {},
   "outputs": [],
   "source": [
    "time_vs_distance['800-2000 km'] = float(merge_data[(merge_data['distance_km'] >=  801) \n",
    "                                                & (merge_data.distance_km <= 2000)][['journey_time']].mean())"
   ]
  },
  {
   "cell_type": "markdown",
   "metadata": {},
   "source": [
    "Average price when the distance of a trip is superior than 2000 km"
   ]
  },
  {
   "cell_type": "code",
   "execution_count": 73,
   "metadata": {},
   "outputs": [
    {
     "name": "stdout",
     "output_type": "stream",
     "text": [
      "nan\n"
     ]
    }
   ],
   "source": [
    "print(float(merge_data[merge_data['distance_km'] > 2000][['journey_time']].mean()))"
   ]
  },
  {
   "cell_type": "markdown",
   "metadata": {},
   "source": [
    "Again, it seems like there are no distances superior than 2000 km in our dataset"
   ]
  },
  {
   "cell_type": "markdown",
   "metadata": {},
   "source": [
    "Displaying the results"
   ]
  },
  {
   "cell_type": "code",
   "execution_count": 74,
   "metadata": {},
   "outputs": [
    {
     "name": "stdout",
     "output_type": "stream",
     "text": [
      "A trip with a distance of 0-200 km last in average\n",
      "0 days 8 hours 54 minutes and 37 seconds\n",
      "None\n",
      "A trip with a distance of 201-800 km last in average\n",
      "0 days 13 hours 26 minutes and 26 seconds\n",
      "None\n",
      "A trip with a distance of 800-2000 km last in average\n",
      "1 days 0 hours 22 minutes and 12 seconds\n",
      "None\n"
     ]
    }
   ],
   "source": [
    "for distance, time in time_vs_distance.items():\n",
    "    print('A trip with a distance of', distance, 'last in average')\n",
    "    print(time_format(time))"
   ]
  },
  {
   "cell_type": "markdown",
   "metadata": {},
   "source": [
    "Let's visualize how the price varies in function of the distance:"
   ]
  },
  {
   "cell_type": "code",
   "execution_count": 75,
   "metadata": {},
   "outputs": [
    {
     "data": {
      "image/png": "[encoded data removed]",
      "text/plain": [
       "<Figure size 432x288 with 1 Axes>"
      ]
     },
     "metadata": {
      "needs_background": "light"
     },
     "output_type": "display_data"
    }
   ],
   "source": [
    "plt.bar(time_vs_distance.keys(), time_vs_distance.values(), color = 'lightsteelblue')\n",
    "plt.xlabel(\"Distance in km\")\n",
    "plt.ylabel(\"Time\")\n",
    "plt.title(\" The average time travel of a ticket in function of the distance\")\n",
    "plt.show()"
   ]
  },
  {
   "cell_type": "markdown",
   "metadata": {},
   "source": [
    "Here, the travel time is increasing with the distance, which is coherent. "
   ]
  },
  {
   "cell_type": "markdown",
   "metadata": {},
   "source": [
    "   #                       ----------- Plotting the data on a map -----------"
   ]
  },
  {
   "cell_type": "markdown",
   "metadata": {},
   "source": [
    "### Installing the dependencies"
   ]
  },
  {
   "cell_type": "code",
   "execution_count": 76,
   "metadata": {},
   "outputs": [],
   "source": [
    "#!pip install descartes\n",
    "import descartes\n",
    "\n",
    "#!pip install geopandas\n",
    "#conda install geopandas\n",
    "import geopandas as gpd\n",
    "from shapely.geometry import Point, Polygon\n",
    "\n",
    "from mpl_toolkits.axes_grid1 import make_axes_locatable\n",
    "\n",
    "%matplotlib inline"
   ]
  },
  {
   "cell_type": "markdown",
   "metadata": {},
   "source": [
    "### Loading the map that we will use "
   ]
  },
  {
   "cell_type": "code",
   "execution_count": 77,
   "metadata": {},
   "outputs": [],
   "source": [
    "world = gpd.read_file(gpd.datasets.get_path('naturalearth_lowres'))"
   ]
  },
  {
   "cell_type": "markdown",
   "metadata": {},
   "source": [
    "### Creating GeoDataFrame"
   ]
  },
  {
   "cell_type": "markdown",
   "metadata": {},
   "source": [
    "In order to have the location of our cities and stations on a map, we need to create GeoDataFrame. These dataframe will contain values such as the name of a city and geometry points."
   ]
  },
  {
   "cell_type": "code",
   "execution_count": 78,
   "metadata": {},
   "outputs": [],
   "source": [
    "crs = {'init': \"EPSG:4326\"}\n",
    "\n",
    "geometry_cities= [Point(xy) for xy in zip(cities['longitude'],cities['latitude'])]\n",
    "\n",
    "geometry_stations= [Point(xy) for xy in zip (merge_data['longitude_station_d'], merge_data['latitude_station_d'])]"
   ]
  },
  {
   "cell_type": "code",
   "execution_count": 79,
   "metadata": {},
   "outputs": [],
   "source": [
    "gpd_cities = gpd.GeoDataFrame(cities,\n",
    "                          crs = crs,\n",
    "                         geometry = geometry_cities)\n",
    "\n",
    "gpd_stations = gpd.GeoDataFrame(merge_data,\n",
    "                          crs = crs,\n",
    "                         geometry = geometry_stations)"
   ]
  },
  {
   "cell_type": "markdown",
   "metadata": {},
   "source": [
    "### Displaying the possibilities on a map"
   ]
  },
  {
   "cell_type": "code",
   "execution_count": 80,
   "metadata": {},
   "outputs": [
    {
     "name": "stdout",
     "output_type": "stream",
     "text": [
      "Hello, you can start your trip from here:\n",
      "\n",
      "\n",
      "\n",
      "['orleans' 'paris' 'metz' 'la-rochelle' 'sain-bel' 'dijon' 'geneve'\n",
      " 'montauban' 'toulon' 'arras' 'bordeaux' 'lille' 'chalons-en-champagne'\n",
      " 'les-sables-dolonne' 'valenciennes' 'nancy' 'aeroport-paris-vatry-'\n",
      " 'lyon' 'rouen' 'amiens' 'boulogne-sur-mer' 'pau' 'avignon' 'marseille'\n",
      " 'limoges' 'rennes' 'toulouse' 'annecy' 'caen' 'bruz' 'saint-brieuc'\n",
      " 'clermont-ferrand' 'besancon' 'biarritz' 'aix-en-provence'\n",
      " 'lezignan-corbieres' 'nantes' 'bruxelles' 'deauville' 'dole-choisey'\n",
      " 'massy' 'angers' 'pamiers' 'le-touquet-paris-plage' 'guingamp' 'lorient'\n",
      " 'saint-dizier' 'lens' 'tours' 'chateauroux' 'strasbourg' 'bourges'\n",
      " 'angouleme' 'soissons' 'aubagne' 'douai' 'nice' 'saint-priest' 'rodez'\n",
      " 'tourcoing' 'saint-raphael' 'frejus' 'beauvais-aeroport-paris' 'beziers'\n",
      " 'cannes' 'albias' 'grenoble' 'torino' 'montelimar' 'le-mans' 'quimper'\n",
      " 'agen' 'carcassonne' 'brive-la-gaillarde' 'poitiers'\n",
      " 'saint-maixent-lecole' 'savona' 'mulhouse' 'venezia' 'troyes'\n",
      " 'saint-etienne' 'montpellier' 'saint-omer' 'amsterdam' 'grigny-le-sablon'\n",
      " 'chateau-thierry' 'perpignan' 'stuttgart' 'auxerre' 'antwerpen'\n",
      " 'amberieu-en-bugey' 'nimes' 'chalon-sur-saone' 'chatellerault'\n",
      " 'charleroi' 'frankfurt' 'valence' 'cluj-napoca' 'perigueux' 'copenhagen'\n",
      " 'sete' 'madrid' 'macon' 'gourdan-polignan' 'laval' 'lillers' 'montlucon'\n",
      " 'niort' 'royan' 'porto' 'le-puy-en-velay' 'london' 'saint-jean-de-luz'\n",
      " 'puteaux' 'firminy' 'avranches' 'alpe-dhuez' 'reims' 'roissy-en-france'\n",
      " 'colmar' 'blois-chambord' 'portsmouth' 'vichy' 'montbeliard' 'folkestone'\n",
      " 'cherbourg-en-cotentin' 'gerona' 'rochefort' 'brest' 'lausanne'\n",
      " 'montrichard' 'marignier' 'rotterdam' 'saint-claude' 'compiegne' 'dax'\n",
      " 'liege' 'marseille-aeroport' 'castelnaudary' 'argeles-sur-mer'\n",
      " 'montargis' 'verviers' 'barcelona' 'lannion' 'narbonne' 'duesseldorf'\n",
      " 'mont-de-marsan' 'louhans' 'chessy' 'chartres' 'laon' 'reze' 'hamburg'\n",
      " 'dinan' 'vannes' 'sens' 'redon' 'le-havre' 'vendome' 'munster'\n",
      " 'ventimiglia' 'auray' 'vitre' 'belfort' 'paris-aeroport-orly' 'surgeres'\n",
      " 'la-roche-sur-yon' 'bergamo' 'lons-le-saunier' 'les-fontinettes' 'orthez'\n",
      " 'calais' 'la-brillanne---oraison' 'clamecy' 'cros-de-cagnes' 'tonnerre'\n",
      " 'neuchatel' 'tremblay-en-france' 'gardanne' 'saint-malo' 'verdun'\n",
      " 'cherbourg' 'versailles' 'lunel' 'chambery' 'bar-le-duc' 'berlin'\n",
      " 'ljubljana' 'saint-etienne-du-rouvray' 'karlsruhe' 'tulle'\n",
      " 'lavaveix-les-mines-sncf' 'ville-de-bruxelles---stad-brussel' 'roma'\n",
      " 'birmingham' 'tarbes' 'alencon' 'carpentras' 'hagondange' 'issoire'\n",
      " 'hazebrouck' 'gand' 'lourdes' 'hyeres' 'tonneins' 'marmande' 'ales'\n",
      " 'pontchaillou' 'arles' 'metzeral' 'saint-herblain' 'epinal' 'ussel'\n",
      " 'girona' 'saint-nazaire' 'honfleur' 'bern' 'zurich' 'moulins' 'utrecht'\n",
      " 'bressuire' 'evreux' 'chanas' 'clermont-de-loise' 'kehl' 'bayonne'\n",
      " 'chantenay' 'thionville' 'saint-quentin' 'forbach' 'cahors'\n",
      " 'saint-amand-montrond' 'montendre' 'bonneval' 'charleville-mezieres'\n",
      " 'sausset-les-pins' 'munchen' 'pierrelaye' 'darmstadt' 'lisieux'\n",
      " 'berck-sur-mer' 'tournai' 'praha' 'annemasse' 'namur' 'saintes' 'malaga'\n",
      " 'etain' 'vesoul' 'muret' 'manchester' 'bernay' 'san-sebastian' 'bethune'\n",
      " 'krakow' 'pauillac' 'rolleville' 'milano' 'nevers' 'ouistreham'\n",
      " 'bucharest' 'chaumont' 'modena' 'saint-die-des-vosges' 'saumur'\n",
      " 'brignoles' 'loriol' 'antibes' 'saint-gilles-croix-de-vie'\n",
      " 'bourgoin-jallieu' 'gutersloh' 'bielefeld' 'luxembourg' 'cholet'\n",
      " 'le-creusot---montceau-tgv-' 'roanne' 'lannemezan' 'sedan' 'vierzon'\n",
      " 'villefranche-sur-cher' 'champigny-sur-marne' 'vidauban' 'agde'\n",
      " 'aurillac' 'mons' 'monaco' 'chasseneuil-sur-bonnieure' 'morlaix'\n",
      " 'louvigny' 'castres' 'langon' 'bremen' 'le-thor' 'biganos' 'ravensburg'\n",
      " 'brno' 'salon-de-provence' 'auch' 'futuroscope' 'vicenza' 'canterbury'\n",
      " 'henin-beaumont' 'cercottes' 'roye' 'sheffield' 'pisa']\n"
     ]
    }
   ],
   "source": [
    "print(\"Hello, you can start your trip from here:\\n\\n\\n\")\n",
    "print(gpd_stations.cities_name_o.unique())"
   ]
  },
  {
   "cell_type": "markdown",
   "metadata": {},
   "source": [
    "### Asking the user where do he want to go and checking if this city is available:"
   ]
  },
  {
   "cell_type": "markdown",
   "metadata": {},
   "source": [
    "Creating a method that will check if the city asked is in our database"
   ]
  },
  {
   "cell_type": "code",
   "execution_count": 81,
   "metadata": {},
   "outputs": [],
   "source": [
    "def IsItPossible(station, condition):\n",
    "    valid = False\n",
    "    while valid != True:\n",
    "        if station in condition:\n",
    "            valid = True\n",
    "            print(\"Here we go!\")\n",
    "        else:\n",
    "            station = input(\"This station is not available \\n\\nPlease try again : \")\n",
    "    return(station)"
   ]
  },
  {
   "cell_type": "markdown",
   "metadata": {},
   "source": [
    "The user can see his trip:"
   ]
  },
  {
   "cell_type": "code",
   "execution_count": 82,
   "metadata": {},
   "outputs": [
    {
     "name": "stdout",
     "output_type": "stream",
     "text": [
      "Where do you want to start your journey ? gdthf\n",
      "This station is not available \n",
      "\n",
      "Please try again : annecy\n",
      "Here we go!\n"
     ]
    }
   ],
   "source": [
    "origin = input('Where do you want to start your journey ? ').lower()\n",
    "\n",
    "origin = IsItPossible(origin, gpd_stations.cities_name_o.unique())"
   ]
  },
  {
   "cell_type": "code",
   "execution_count": 83,
   "metadata": {},
   "outputs": [
    {
     "name": "stdout",
     "output_type": "stream",
     "text": [
      "From annecy, you can go there:\n",
      "['lyon' 'lille' 'marseille' 'saint-quentin-fallavier' 'nantes' 'milano'\n",
      " 'chamonix' 'brive-la-gaillarde']\n"
     ]
    },
    {
     "data": {
      "image/png": "[encoded data removed]",
      "text/plain": [
       "<Figure size 1800x1800 with 1 Axes>"
      ]
     },
     "metadata": {
      "needs_background": "light"
     },
     "output_type": "display_data"
    }
   ],
   "source": [
    "print(\"From \" + origin + \", you can go there:\")\n",
    "possibilities = gpd_stations[gpd_stations.cities_name_o == origin][[\"cities_name_d\"]]\n",
    "print(possibilities.cities_name_d.unique())\n",
    "\n",
    "fig,ax = plt.subplots(figsize =(25,25))\n",
    "world.plot(ax =ax,alpha = 0.85,color = 'black')\n",
    "ax.margins(x=-0.45 , y=-0.11)\n",
    "\n",
    "gpd_stations[gpd_stations.cities_name_o == origin][[\"geometry\"]].plot(ax =ax, markersize = 20, color = 'goldenrod' , marker = 'o', \n",
    "                                                        label = \"From \" + origin + \", you can go there:\")\n",
    "plt.legend(prop = {'size' : 15})\n",
    "plt.show()"
   ]
  },
  {
   "cell_type": "code",
   "execution_count": 84,
   "metadata": {},
   "outputs": [
    {
     "name": "stdout",
     "output_type": "stream",
     "text": [
      "Where do you want to go ? marseille\n",
      "Here we go!\n"
     ]
    }
   ],
   "source": [
    "destination = input('Where do you want to go ? ').lower()\n",
    "destination = IsItPossible(destination, possibilities.cities_name_d.unique())"
   ]
  },
  {
   "cell_type": "code",
   "execution_count": 86,
   "metadata": {},
   "outputs": [
    {
     "data": {
      "image/png": "[encoded data removed]",
      "text/plain": [
       "<Figure size 1800x1800 with 1 Axes>"
      ]
     },
     "metadata": {
      "needs_background": "light"
     },
     "output_type": "display_data"
    }
   ],
   "source": [
    "fig,ax = plt.subplots(figsize =(25,25))\n",
    "world.plot(ax =ax,alpha = 0.85,color = 'black')\n",
    "ax.margins(x=-0.45, y=-0.15)\n",
    "\n",
    "gpd_cities[gpd_cities.unique_name == origin][['geometry']].plot(ax =ax, markersize = 20, color = 'royalblue' , marker = 'o', \n",
    "                                                        label = 'Your departure : '+origin)\n",
    "\n",
    "gpd_cities[gpd_cities.unique_name == destination][['geometry']].plot(ax =ax, markersize = 20, color = 'red' , marker = 'o',\n",
    "                                                             label = 'Your arrival : '+destination)\n",
    "                                        \n",
    "plt.legend(prop = {'size' : 15})\n",
    "plt.show()\n"
   ]
  }
 ],
 "metadata": {
  "kernelspec": {
   "display_name": "Python 3",
   "language": "python",
   "name": "python3"
  },
  "language_info": {
   "codemirror_mode": {
    "name": "ipython",
    "version": 3
   },
   "file_extension": ".py",
   "mimetype": "text/x-python",
   "name": "python",
   "nbconvert_exporter": "python",
   "pygments_lexer": "ipython3",
   "version": "3.8.3"
  }
 },
 "nbformat": 4,
 "nbformat_minor": 4
}
